{
 "cells": [
  {
   "cell_type": "code",
   "execution_count": null,
   "metadata": {},
   "outputs": [],
   "source": [
    "import numpy as np\n",
    "import pandas as pd\n",
    "import shap\n",
    "import os\n",
    "from sklearn.model_selection import train_test_split\n",
    "from sklearn.ensemble import RandomForestClassifier\n",
    "from sklearn import metrics\n",
    "from joblib import load\n",
    "import matplotlib.pyplot as pl\n",
    "import pickle\n",
    "\n"
   ]
  },
  {
   "cell_type": "markdown",
   "metadata": {},
   "source": [
    "### Data preprocessing"
   ]
  },
  {
   "cell_type": "code",
   "execution_count": null,
   "metadata": {},
   "outputs": [],
   "source": [
    "data = pd.read_csv('dataset_postprocessed.csv')\n",
    "data.dropna()\n",
    "data = data[~data.isin([np.nan, np.inf, -np.inf]).any(1)]"
   ]
  },
  {
   "cell_type": "code",
   "execution_count": null,
   "metadata": {},
   "outputs": [],
   "source": [
    "y_train_data = data[\"class\"] \n",
    "x_train_data = data.drop([\"class\", \"latitude\", \"longitude\", \"spring_product_name\", \"autumn_product_name\", \"summer_product_name\"], axis=1)\n",
    "pc_columns = x_train_data.columns\n",
    "\n",
    "reduced_x_train_data = data[pc_columns]\n",
    "reduced_x_train_data.columns"
   ]
  },
  {
   "cell_type": "code",
   "execution_count": null,
   "metadata": {},
   "outputs": [],
   "source": [
    "X_train, X_test, y_train, y_test = train_test_split(reduced_x_train_data, y_train_data, test_size=0.15, random_state=0,)\n",
    "labels=y_train_data.unique()"
   ]
  },
  {
   "cell_type": "code",
   "execution_count": null,
   "metadata": {},
   "outputs": [],
   "source": [
    "model = load('model.joblib')\n",
    "y_true = model.predict(X_test)"
   ]
  },
  {
   "cell_type": "code",
   "execution_count": null,
   "metadata": {},
   "outputs": [],
   "source": [
    "pred = pd.DataFrame(y_true).reset_index(drop=True, inplace=False)\n",
    "real = y_test.reset_index(drop=True, inplace=False)\n",
    "test = pd.DataFrame(X_test).reset_index(drop=True, inplace=False)\n",
    "train = pd.DataFrame(X_train).reset_index(drop=True, inplace=False)"
   ]
  },
  {
   "cell_type": "markdown",
   "metadata": {},
   "source": [
    "# Explainability with SHAP\n",
    "\n",
    "All dataset is found in *reduced_x_train_data*. The name has not been changed to not modify the previus code."
   ]
  },
  {
   "cell_type": "code",
   "execution_count": null,
   "metadata": {},
   "outputs": [],
   "source": [
    "explainer = shap.TreeExplainer(model)"
   ]
  },
  {
   "cell_type": "code",
   "execution_count": null,
   "metadata": {},
   "outputs": [],
   "source": [
    "choosen_instance = reduced_x_train_data\n",
    "shap_values = explainer.shap_values(choosen_instance)\n",
    "shap.initjs()"
   ]
  },
  {
   "cell_type": "code",
   "execution_count": null,
   "metadata": {},
   "outputs": [],
   "source": [
    "with open(\"matriz.pckl\",\"wb\") as f:\n",
    "    pickle.dump(shap_values, f)"
   ]
  },
  {
   "cell_type": "code",
   "execution_count": null,
   "metadata": {},
   "outputs": [],
   "source": [
    "#to import the matrix again\n",
    "shap_values = pickle.load(open('matriz.pckl', 'rb'))"
   ]
  },
  {
   "cell_type": "markdown",
   "metadata": {},
   "source": [
    "## Using all the features\n"
   ]
  },
  {
   "cell_type": "code",
   "execution_count": null,
   "metadata": {},
   "outputs": [],
   "source": [
    "labels"
   ]
  },
  {
   "cell_type": "code",
   "execution_count": null,
   "metadata": {},
   "outputs": [],
   "source": [
    "pretty_labels= ['Built Up', 'Water', 'Open Forest', 'Closed Forest', 'Bare Soil',\n",
    "       'Cropland', 'Herbaceous Vegetation', 'Wetland', 'Shrubland']"
   ]
  },
  {
   "cell_type": "code",
   "execution_count": null,
   "metadata": {},
   "outputs": [],
   "source": [
    "num_features = len(list(reduced_x_train_data.columns.values))"
   ]
  },
  {
   "cell_type": "code",
   "execution_count": null,
   "metadata": {},
   "outputs": [],
   "source": [
    "def calculateColors(i):\n",
    "    #           Water  ClosedForest  cropland openForest bareSoil HerbaceousVeg  BuiltUp    wetland     shrubland\n",
    "    colors = [\"#fa0000\", \"#0032c8\", \"#648c00\", \"#007800\", \"#b4b4b4\", \"#f096ff\", \"#ffff4c\", \"#0096a0\", \"#ffbb22\"]\n",
    "    return colors[i]"
   ]
  },
  {
   "cell_type": "code",
   "execution_count": null,
   "metadata": {},
   "outputs": [],
   "source": [
    "shap.summary_plot(shap_values, list(reduced_x_train_data.columns.values),  max_display =num_features, class_names=pretty_labels,  color= calculateColors, class_inds=\"original\", show=False)\n",
    "pl.savefig(\"all_features_DEF.png\")\n"
   ]
  },
  {
   "cell_type": "markdown",
   "metadata": {},
   "source": [
    "## Dividing the features in 3 \n",
    "\n",
    "In this part we're going to divive the dataset in 3 halves. For this porpose the *train dataset* and the *shap_values* (the dimennsion corresponding to features) will be reduced to the halved "
   ]
  },
  {
   "cell_type": "code",
   "execution_count": null,
   "metadata": {},
   "outputs": [],
   "source": [
    "half = int(np.round(num_features/3))\n"
   ]
  },
  {
   "cell_type": "code",
   "execution_count": null,
   "metadata": {},
   "outputs": [],
   "source": [
    "feature_order = np.argsort(np.sum(np.mean(np.abs(shap_values), axis=1), axis=0))\n",
    "feature_order[half*2:]"
   ]
  },
  {
   "cell_type": "markdown",
   "metadata": {},
   "source": [
    "#### Crop the shap_values"
   ]
  },
  {
   "cell_type": "code",
   "execution_count": null,
   "metadata": {},
   "outputs": [],
   "source": [
    "shap_values_array = np.array(shap_values)\n",
    "cropped_first_shap_values = list(shap_values_array[:,:,feature_order[:half]])\n",
    "cropped_second_shap_values = list(shap_values_array[:,:,feature_order[half: half*2]])\n",
    "cropped_thrid_shap_values = list(shap_values_array[:,:,feature_order[half*2:]])\n",
    "\n",
    "# alternatively, you can do directly -- > list_first_shap_values = [shap_values[i][:,:36] for i in range(len(shap_values))] "
   ]
  },
  {
   "cell_type": "markdown",
   "metadata": {},
   "source": [
    "#### Crop the train dataset"
   ]
  },
  {
   "cell_type": "code",
   "execution_count": null,
   "metadata": {},
   "outputs": [],
   "source": [
    "first_half_train = reduced_x_train_data.iloc[:,feature_order[:half]]\n",
    "second_half_train = reduced_x_train_data.iloc[:,feature_order[half: half*2]]\n",
    "thrid_half_train = reduced_x_train_data.iloc[:,feature_order[half*2:]]"
   ]
  },
  {
   "cell_type": "markdown",
   "metadata": {},
   "source": [
    "### Plot for the first half\n",
    "\n",
    "For both plots, it's important to specicy **class_inds=\"original\"** to set the labels in the correct order"
   ]
  },
  {
   "cell_type": "code",
   "execution_count": null,
   "metadata": {},
   "outputs": [],
   "source": [
    "shap.summary_plot(cropped_first_shap_values,  first_half_train.columns.values, max_display = half, class_names=pretty_labels,  color= calculateColors, class_inds=\"original\", show=False )\n",
    "pl.xlim([0, 0.12])\n",
    "pl.legend(loc='lower right')\n",
    "pl.savefig(\"first_half_DEF.png\")\n"
   ]
  },
  {
   "cell_type": "markdown",
   "metadata": {},
   "source": [
    "### Plot for the second half"
   ]
  },
  {
   "cell_type": "code",
   "execution_count": null,
   "metadata": {},
   "outputs": [],
   "source": [
    "shap.summary_plot(cropped_second_shap_values,  second_half_train.columns.values, max_display = half, class_names=pretty_labels,  color= calculateColors, show=False )\n",
    "pl.xlim([0, 0.12])\n",
    "pl.legend(loc='lower right')\n",
    "pl.savefig(\"second_half_DEF.png\")\n"
   ]
  },
  {
   "cell_type": "markdown",
   "metadata": {},
   "source": [
    "### Plot for the second half"
   ]
  },
  {
   "cell_type": "code",
   "execution_count": null,
   "metadata": {},
   "outputs": [],
   "source": [
    "shap.summary_plot(cropped_thrid_shap_values, thrid_half_train.columns.values, max_display = half, class_names=pretty_labels,  color= calculateColors, show=False )\n",
    "pl.xlim([0, 0.12])\n",
    "pl.legend(loc='lower right')\n",
    "pl.savefig(\"third_half_DEF.png\")"
   ]
  },
  {
   "cell_type": "markdown",
   "metadata": {},
   "source": [
    "## Doing transpose - Discarded\n",
    "Initially the form of **shap_values** is (classes, samples, features). You can do a transpose to change the dimensions of the matrix to get (features, samples, classes), however this does not make any sense because you cannot change the input to the model. (The model cannot have 9 classes as input and predict a feature)."
   ]
  },
  {
   "cell_type": "code",
   "execution_count": null,
   "metadata": {},
   "outputs": [],
   "source": [
    "np.shape(shap_values)"
   ]
  },
  {
   "cell_type": "code",
   "execution_count": null,
   "metadata": {},
   "outputs": [],
   "source": [
    "shap_values_transpose = np.transpose(shap_values, (2, 1, 0))"
   ]
  },
  {
   "cell_type": "code",
   "execution_count": null,
   "metadata": {},
   "outputs": [],
   "source": [
    "np.shape(shap_values_transpose)"
   ]
  },
  {
   "cell_type": "code",
   "execution_count": null,
   "metadata": {},
   "outputs": [],
   "source": [
    "np.shape(reduced_x_train_data.index.values)"
   ]
  },
  {
   "cell_type": "code",
   "execution_count": null,
   "metadata": {},
   "outputs": [],
   "source": [
    "reduced_x_train_data.columns.values"
   ]
  },
  {
   "cell_type": "code",
   "execution_count": null,
   "metadata": {},
   "outputs": [],
   "source": [
    "np.array(pretty_labels)"
   ]
  },
  {
   "cell_type": "code",
   "execution_count": null,
   "metadata": {},
   "outputs": [],
   "source": [
    "\n",
    "#shap.summary_plot(cropped_first_shap_values,  first_half_train.columns.values, max_display = half, class_names=pretty_labels,  color= calculateColors, class_inds=\"original\", show=False )\n",
    "shap.summary_plot(list(shap_values_transpose), np.array(pretty_labels), class_names=reduced_x_train_data.columns.values,  max_display = 9,class_inds=\"original\",  show=False )\n",
    "pl.legend(loc=(1.04, 0))\n",
    "pl.savefig(\"transpose_plot_DEF1.png\", bbox_inches = 'tight')\n",
    "pl.tight_layout()\n"
   ]
  },
  {
   "cell_type": "markdown",
   "metadata": {},
   "source": [
    "### Split by class"
   ]
  },
  {
   "cell_type": "code",
   "execution_count": null,
   "metadata": {},
   "outputs": [],
   "source": [
    "def data_train(data, pc_columns):\n",
    "    y_train_data = data[\"class\"] \n",
    "    x_train_data = data.drop([\"class\", \"latitude\", \"longitude\", \"spring_product_name\", \"autumn_product_name\", \"summer_product_name\"], axis=1)\n",
    "\n",
    "    reduced_x_train_data = data[pc_columns]\n",
    "    #reduced_x_train_data.to_csv(f'{label}.csv')\n",
    "\n",
    "    X_train, X_test, y_train, y_test = train_test_split(reduced_x_train_data, y_train_data, test_size=0.50, random_state=0,)\n",
    "\n",
    "    y_true = model.predict(X_test)\n",
    "\n",
    "    X_train = pd.DataFrame(X_train).reset_index(drop=True, inplace=False)\n",
    "    X_test = pd.DataFrame(X_test).reset_index(drop=True, inplace=False)\n",
    "    y_test = pd.DataFrame(y_test).reset_index(drop=True, inplace=False)\n",
    "    y_train = pd.DataFrame(y_train).reset_index(drop=True, inplace=False)\n",
    "    y_true = pd.DataFrame(y_true).reset_index(drop=True, inplace=False)\n",
    "    \n",
    "\n",
    "    return X_train, X_test, y_train, y_test, y_true\n"
   ]
  },
  {
   "cell_type": "code",
   "execution_count": null,
   "metadata": {},
   "outputs": [],
   "source": [
    "labels = ['closedForest']\n",
    "print(labels)"
   ]
  },
  {
   "cell_type": "code",
   "execution_count": null,
   "metadata": {},
   "outputs": [],
   "source": [
    "for label in labels:\n",
    "    b_aux = data['class'] == label\n",
    "    b = data[b_aux]\n",
    "    X_train, X_test, y_train, y_test, y_true = data_train(b, pc_columns)\n",
    "    explainer = shap.TreeExplainer(model)\n",
    "    choosen_instance = X_test.loc[0:10]\n",
    "    shap_values = explainer.shap_values(choosen_instance)\n",
    "    shap.initjs()\n",
    "    shap.force_plot(explainer.expected_value[1], shap_values[1], choosen_instance)\n"
   ]
  },
  {
   "cell_type": "code",
   "execution_count": null,
   "metadata": {},
   "outputs": [],
   "source": [
    "explainer = shap.TreeExplainer(model)\n",
    "choosen_instance = X_test.loc[0:3]\n",
    "shap_values = explainer.shap_values(choosen_instance)\n",
    "shap.initjs()\n",
    "shap.force_plot(explainer.expected_value[1], shap_values[1], choosen_instance)"
   ]
  },
  {
   "cell_type": "code",
   "execution_count": null,
   "metadata": {},
   "outputs": [],
   "source": []
  }
 ],
 "metadata": {
  "kernelspec": {
   "display_name": "Python 3 (ipykernel)",
   "language": "python",
   "name": "python3"
  },
  "language_info": {
   "codemirror_mode": {
    "name": "ipython",
    "version": 3
   },
   "file_extension": ".py",
   "mimetype": "text/x-python",
   "name": "python",
   "nbconvert_exporter": "python",
   "pygments_lexer": "ipython3",
   "version": "3.8.10"
  },
  "vscode": {
   "interpreter": {
    "hash": "e7370f93d1d0cde622a1f8e1c04877d8463912d04d973331ad4851f04de6915a"
   }
  }
 },
 "nbformat": 4,
 "nbformat_minor": 2
}
