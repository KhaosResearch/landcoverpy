{
 "cells": [
  {
   "cell_type": "code",
   "execution_count": 2,
   "id": "6affbe60",
   "metadata": {},
   "outputs": [],
   "source": [
    "import pickle\n",
    "import numpy as np\n",
    "import pandas as pd"
   ]
  },
  {
   "cell_type": "code",
   "execution_count": 3,
   "id": "b39a1718",
   "metadata": {},
   "outputs": [],
   "source": [
    "#to import the matrix again\n",
    "shap_values = pickle.load(open('matriz.pckl', 'rb'))"
   ]
  },
  {
   "cell_type": "code",
   "execution_count": 4,
   "id": "6546d0d3",
   "metadata": {},
   "outputs": [
    {
     "data": {
      "text/plain": [
       "array([-1.71234852e-02,  2.10063349e-04, -5.92514355e-03, -1.80226005e-03,\n",
       "        3.02542641e-05, -4.21449800e-03, -6.70613988e-04, -3.28279794e-03,\n",
       "       -4.86657359e-04,  1.12053536e-03, -2.29028332e-03, -3.05846571e-04,\n",
       "       -4.02728246e-03,  8.26925565e-04,  1.17040219e-03,  4.27460121e-04,\n",
       "       -7.81700232e-04, -5.08954022e-04, -1.41523178e-03, -7.29407260e-04,\n",
       "       -1.72246991e-03, -1.55569289e-03, -7.82390389e-03,  2.69231748e-03,\n",
       "       -1.98490842e-03, -3.82882241e-03,  2.69697110e-03,  6.42921386e-04,\n",
       "       -1.50664921e-03, -5.51765957e-03, -2.51937026e-03,  7.64875133e-04,\n",
       "        3.43325021e-03,  5.06395793e-04, -1.57142204e-03, -4.65031307e-03,\n",
       "        4.90009120e-03,  7.90902513e-04, -1.28852131e-03, -7.40899835e-04,\n",
       "       -1.03577188e-03, -5.87734889e-04, -7.55468321e-04, -6.19339556e-04,\n",
       "       -5.19121240e-03, -1.85375940e-02, -5.09790860e-04, -3.91189820e-03,\n",
       "       -2.82063375e-03,  3.15324749e-04, -1.34311000e-04, -4.05776297e-03,\n",
       "       -3.33154754e-03, -2.70279934e-03,  3.80259014e-05, -1.02569281e-03,\n",
       "        9.20487487e-05, -4.37522210e-04, -2.59095300e-03, -1.22569791e-03,\n",
       "        1.45137239e-03,  3.83606112e-04,  1.53203667e-03, -4.26669935e-04,\n",
       "       -1.22824018e-03, -2.37338527e-04, -1.56843453e-04, -1.09370737e-03,\n",
       "       -6.06500974e-03,  8.91107806e-04, -1.05811955e-03, -2.88193678e-03])"
      ]
     },
     "execution_count": 4,
     "metadata": {},
     "output_type": "execute_result"
    }
   ],
   "source": [
    "shap_values[0][:][0]"
   ]
  },
  {
   "cell_type": "code",
   "execution_count": 101,
   "id": "90552328",
   "metadata": {},
   "outputs": [
    {
     "data": {
      "text/plain": [
       "(9, 121099, 72)"
      ]
     },
     "execution_count": 101,
     "metadata": {},
     "output_type": "execute_result"
    }
   ],
   "source": [
    "np.shape(shap_values)"
   ]
  },
  {
   "cell_type": "code",
   "execution_count": 102,
   "id": "34b8285d",
   "metadata": {},
   "outputs": [],
   "source": [
    "mean_shap_values= []\n",
    "for classes in range(len(shap_values)):\n",
    "            mean_shap = [np.mean(shap_values[classes][:][i]) for i in range(len(shap_values[0][0]))]\n",
    "            mean_shap_values.append(mean_shap)"
   ]
  },
  {
   "cell_type": "code",
   "execution_count": 103,
   "id": "89aa691a",
   "metadata": {},
   "outputs": [
    {
     "data": {
      "text/plain": [
       "Index(['slope', 'aspect', 'dem', 'spring_cri1', 'spring_evi2', 'spring_mndwi',\n",
       "       'spring_moisture', 'spring_ndre', 'spring_ndvi', 'spring_ndyi',\n",
       "       'spring_osavi', 'spring_ri', 'spring_AOT', 'spring_B01', 'spring_B02',\n",
       "       'spring_B03', 'spring_B04', 'spring_B05', 'spring_B06', 'spring_B07',\n",
       "       'spring_B08', 'spring_B09', 'spring_B11', 'spring_B12', 'spring_B8A',\n",
       "       'spring_WVP', 'autumn_cri1', 'autumn_evi2', 'autumn_mndwi',\n",
       "       'autumn_moisture', 'autumn_ndre', 'autumn_ndvi', 'autumn_ndyi',\n",
       "       'autumn_osavi', 'autumn_ri', 'autumn_AOT', 'autumn_B01', 'autumn_B02',\n",
       "       'autumn_B03', 'autumn_B04', 'autumn_B05', 'autumn_B06', 'autumn_B07',\n",
       "       'autumn_B08', 'autumn_B09', 'autumn_B11', 'autumn_B12', 'autumn_B8A',\n",
       "       'autumn_WVP', 'summer_cri1', 'summer_evi2', 'summer_mndwi',\n",
       "       'summer_moisture', 'summer_ndre', 'summer_ndvi', 'summer_ndyi',\n",
       "       'summer_osavi', 'summer_ri', 'summer_AOT', 'summer_B01', 'summer_B02',\n",
       "       'summer_B03', 'summer_B04', 'summer_B05', 'summer_B06', 'summer_B07',\n",
       "       'summer_B08', 'summer_B09', 'summer_B11', 'summer_B12', 'summer_B8A',\n",
       "       'summer_WVP'],\n",
       "      dtype='object')"
      ]
     },
     "execution_count": 103,
     "metadata": {},
     "output_type": "execute_result"
    }
   ],
   "source": [
    "data = pd.read_csv('dataset_postprocessed.csv')\n",
    "data.dropna()\n",
    "data = data[~data.isin([np.nan, np.inf, -np.inf]).any(1)]\n",
    "y = data[\"class\"] \n",
    "X = data.drop([\"class\", \"latitude\", \"longitude\", \"spring_product_name\", \"autumn_product_name\", \"summer_product_name\"], axis=1)\n",
    "pc_columns = X.columns\n",
    "\n",
    "reduced_x = data[pc_columns]\n",
    "reduced_x.columns"
   ]
  },
  {
   "cell_type": "code",
   "execution_count": 92,
   "id": "e56b9a59",
   "metadata": {},
   "outputs": [
    {
     "data": {
      "text/plain": [
       "(9, 72)"
      ]
     },
     "execution_count": 92,
     "metadata": {},
     "output_type": "execute_result"
    }
   ],
   "source": [
    "np.shape(mean_shap_values)"
   ]
  },
  {
   "cell_type": "code",
   "execution_count": 104,
   "id": "a63b493e",
   "metadata": {},
   "outputs": [],
   "source": [
    "df = pd.DataFrame (mean_shap_values, columns = reduced_x.columns, index=y.unique())\n",
    "df.to_csv(\"shap_values_mean.csv\", sep=',')"
   ]
  }
 ],
 "metadata": {
  "kernelspec": {
   "display_name": "Python 3 (ipykernel)",
   "language": "python",
   "name": "python3"
  },
  "language_info": {
   "codemirror_mode": {
    "name": "ipython",
    "version": 3
   },
   "file_extension": ".py",
   "mimetype": "text/x-python",
   "name": "python",
   "nbconvert_exporter": "python",
   "pygments_lexer": "ipython3",
   "version": "3.8.9"
  }
 },
 "nbformat": 4,
 "nbformat_minor": 5
}
