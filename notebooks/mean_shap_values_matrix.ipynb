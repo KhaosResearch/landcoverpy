{
 "cells": [
  {
   "cell_type": "code",
   "execution_count": null,
   "id": "6affbe60",
   "metadata": {},
   "outputs": [],
   "source": [
    "import pickle\n",
    "import numpy as np\n",
    "import pandas as pd"
   ]
  },
  {
   "cell_type": "code",
   "execution_count": null,
   "id": "b39a1718",
   "metadata": {},
   "outputs": [],
   "source": [
    "#to import the matrix again\n",
    "shap_values = pickle.load(open('matriz.pckl', 'rb'))"
   ]
  },
  {
   "cell_type": "code",
   "execution_count": null,
   "id": "6546d0d3",
   "metadata": {},
   "outputs": [],
   "source": [
    "shap_values[0][:][0]"
   ]
  },
  {
   "cell_type": "code",
   "execution_count": null,
   "id": "90552328",
   "metadata": {},
   "outputs": [],
   "source": [
    "np.shape(shap_values)"
   ]
  },
  {
   "cell_type": "code",
   "execution_count": null,
   "id": "34b8285d",
   "metadata": {},
   "outputs": [],
   "source": [
    "mean_shap_values= []\n",
    "for classes in range(len(shap_values)):\n",
    "            mean_shap = [np.mean(shap_values[classes][:][i]) for i in range(len(shap_values[0][0]))]\n",
    "            mean_shap_values.append(mean_shap)"
   ]
  },
  {
   "cell_type": "code",
   "execution_count": null,
   "id": "89aa691a",
   "metadata": {},
   "outputs": [],
   "source": [
    "data = pd.read_csv('dataset_postprocessed.csv')\n",
    "data.dropna()\n",
    "data = data[~data.isin([np.nan, np.inf, -np.inf]).any(1)]\n",
    "y = data[\"class\"] \n",
    "X = data.drop([\"class\", \"latitude\", \"longitude\", \"spring_product_name\", \"autumn_product_name\", \"summer_product_name\"], axis=1)\n",
    "pc_columns = X.columns\n",
    "\n",
    "reduced_x = data[pc_columns]\n",
    "reduced_x.columns"
   ]
  },
  {
   "cell_type": "code",
   "execution_count": null,
   "id": "e56b9a59",
   "metadata": {},
   "outputs": [],
   "source": [
    "np.shape(mean_shap_values)"
   ]
  },
  {
   "cell_type": "code",
   "execution_count": null,
   "id": "a63b493e",
   "metadata": {},
   "outputs": [],
   "source": [
    "df = pd.DataFrame (mean_shap_values, columns = reduced_x.columns, index=y.unique())\n",
    "df.to_csv(\"shap_values_mean.csv\", sep=',')"
   ]
  }
 ],
 "metadata": {
  "kernelspec": {
   "display_name": "Python 3 (ipykernel)",
   "language": "python",
   "name": "python3"
  },
  "language_info": {
   "codemirror_mode": {
    "name": "ipython",
    "version": 3
   },
   "file_extension": ".py",
   "mimetype": "text/x-python",
   "name": "python",
   "nbconvert_exporter": "python",
   "pygments_lexer": "ipython3",
   "version": "3.8.9"
  }
 },
 "nbformat": 4,
 "nbformat_minor": 5
}
