{
 "cells": [
  {
   "cell_type": "markdown",
   "metadata": {},
   "source": [
    "# Land cover of Spain example (local mode)\n",
    "\n",
    "### Generate training dataset using validated data located at `DB_DIR` environment variable"
   ]
  },
  {
   "cell_type": "code",
   "execution_count": null,
   "metadata": {},
   "outputs": [],
   "source": [
    "from landcoverpy.config import settings\n",
    "settings.MINIO_DATA_FOLDER_NAME"
   ]
  },
  {
   "cell_type": "code",
   "execution_count": null,
   "metadata": {},
   "outputs": [],
   "source": [
    "from landcoverpy.execution_mode import ExecutionMode\n",
    "from landcoverpy.workflow import workflow\n",
    "workflow(execution_mode=ExecutionMode.TRAINING)"
   ]
  },
  {
   "cell_type": "markdown",
   "metadata": {},
   "source": [
    "### Train models using the generated dataset. \n",
    "\n",
    "The data will be automatically loaded from MinIO, which is also automatically saved in MinIO when using `workflow(execution_mode=ExecutionMode.TRAINING)`"
   ]
  },
  {
   "cell_type": "code",
   "execution_count": null,
   "metadata": {},
   "outputs": [],
   "source": [
    "from landcoverpy.model_training import train_model_land_cover\n",
    "train_model_land_cover(n_jobs = 5)"
   ]
  },
  {
   "cell_type": "markdown",
   "metadata": {},
   "source": [
    "Now, use the generated model (also saved and loaded from MinIO) to predict a specific tile using the `ExecutionMode.LAND_COVER_PREDICTION` mode."
   ]
  },
  {
   "cell_type": "code",
   "execution_count": null,
   "metadata": {},
   "outputs": [],
   "source": [
    "from landcoverpy.workflow import workflow\n",
    "from landcoverpy.execution_mode import ExecutionMode\n",
    "slices = (5,5)\n",
    "workflow(execution_mode=ExecutionMode.LAND_COVER_PREDICTION, tiles_to_predict=[\"36SYC\"], window_slices=slices)"
   ]
  },
  {
   "cell_type": "markdown",
   "metadata": {},
   "source": [
    "If you want to make second level predictions, you can train a new model that will learn from SL_PROPERTY labels from specified classes."
   ]
  },
  {
   "cell_type": "code",
   "execution_count": null,
   "metadata": {},
   "outputs": [],
   "source": [
    "from landcoverpy.model_training import train_second_level_models\n",
    "train_second_level_models([\"openForest\", \"closedForest\"], n_jobs=5)"
   ]
  },
  {
   "cell_type": "markdown",
   "metadata": {},
   "source": [
    "Use the mode `ExecutionMode.SECOND_LEVEL_PREDICTION` to predict the second level labels of the tile using the previous land cover predictions. They will be reclassified using new models trained with the SL_PROPERTY labels in a hierarchical way."
   ]
  }
 ],
 "metadata": {
  "kernelspec": {
   "display_name": "landcoverpyv13",
   "language": "python",
   "name": "python3"
  },
  "language_info": {
   "codemirror_mode": {
    "name": "ipython",
    "version": 3
   },
   "file_extension": ".py",
   "mimetype": "text/x-python",
   "name": "python",
   "nbconvert_exporter": "python",
   "pygments_lexer": "ipython3",
   "version": "3.10.14"
  },
  "orig_nbformat": 4
 },
 "nbformat": 4,
 "nbformat_minor": 2
}
