{
 "cells": [
  {
   "cell_type": "markdown",
   "metadata": {},
   "source": [
    "# Land cover of Spain example (local mode)\n",
    "\n",
    "### Generate training dataset using validated data located at `DB_DIR` environment variable"
   ]
  },
  {
   "cell_type": "code",
   "execution_count": 1,
   "metadata": {},
   "outputs": [
    {
     "name": "stdout",
     "output_type": "stream",
     "text": [
      "⚙️ Loading settings from dotenv @ /mnt/home/am/landcoverpy-lidar/landcoverpy/notebooks/.env\n"
     ]
    },
    {
     "data": {
      "text/plain": [
       "'lidar_v1'"
      ]
     },
     "execution_count": 1,
     "metadata": {},
     "output_type": "execute_result"
    }
   ],
   "source": [
    "from landcoverpy.config import settings\n",
    "settings.MINIO_DATA_FOLDER_NAME"
   ]
  },
  {
   "cell_type": "code",
   "execution_count": 2,
   "metadata": {},
   "outputs": [
    {
     "name": "stderr",
     "output_type": "stream",
     "text": [
      "/mnt/home/am/.pyenv/versions/3.10.14/envs/landcoverpy-lidar/lib/python3.10/site-packages/tqdm/auto.py:21: TqdmWarning: IProgress not found. Please update jupyter and ipywidgets. See https://ipywidgets.readthedocs.io/en/stable/user_install.html\n",
      "  from .autonotebook import tqdm as notebook_tqdm\n"
     ]
    },
    {
     "name": "stdout",
     "output_type": "stream",
     "text": [
      "⚙️ Loading settings from dotenv @ /mnt/home/am/landcoverpy-lidar/landcoverpy/notebooks/.env\n",
      "Querying relevant tiles for 181 features\n",
      "Creating dataset from tiles\n",
      "Working in tile 30SUF\n",
      "Obtaining slope data of tile 30SUF using ['N36W005/', 'N36W006/', 'N37W005/', 'N37W006/'] aster products\n"
     ]
    },
    {
     "name": "stderr",
     "output_type": "stream",
     "text": [
      "/mnt/home/am/.pyenv/versions/3.10.14/envs/landcoverpy-lidar/lib/python3.10/site-packages/shapely/ops.py:276: FutureWarning: This function is deprecated. See: https://pyproj4.github.io/pyproj/stable/gotchas.html#upgrading-to-pyproj-2-from-pyproj-1\n",
      "  shell = type(geom.exterior)(zip(*func(*zip(*geom.exterior.coords))))\n"
     ]
    },
    {
     "name": "stdout",
     "output_type": "stream",
     "text": [
      "Obtaining aspect data of tile 30SUF using ['N36W005/', 'N36W006/', 'N37W005/', 'N37W006/'] aster products\n"
     ]
    },
    {
     "name": "stderr",
     "output_type": "stream",
     "text": [
      "/mnt/home/am/.pyenv/versions/3.10.14/envs/landcoverpy-lidar/lib/python3.10/site-packages/shapely/ops.py:276: FutureWarning: This function is deprecated. See: https://pyproj4.github.io/pyproj/stable/gotchas.html#upgrading-to-pyproj-2-from-pyproj-1\n",
      "  shell = type(geom.exterior)(zip(*func(*zip(*geom.exterior.coords))))\n"
     ]
    },
    {
     "name": "stdout",
     "output_type": "stream",
     "text": [
      "Obtaining dem data of tile 30SUF using ['N36W005/', 'N36W006/', 'N37W005/', 'N37W006/'] aster products\n"
     ]
    },
    {
     "name": "stderr",
     "output_type": "stream",
     "text": [
      "/mnt/home/am/.pyenv/versions/3.10.14/envs/landcoverpy-lidar/lib/python3.10/site-packages/shapely/ops.py:276: FutureWarning: This function is deprecated. See: https://pyproj4.github.io/pyproj/stable/gotchas.html#upgrading-to-pyproj-2-from-pyproj-1\n",
      "  shell = type(geom.exterior)(zip(*func(*zip(*geom.exterior.coords))))\n"
     ]
    },
    {
     "name": "stdout",
     "output_type": "stream",
     "text": [
      "spring\n"
     ]
    },
    {
     "ename": "AttributeError",
     "evalue": "'_Settings' object has no attribute 'MINIO_BUCKET_NAME_COMPOSITES'",
     "output_type": "error",
     "traceback": [
      "\u001b[0;31m---------------------------------------------------------------------------\u001b[0m",
      "\u001b[0;31mAttributeError\u001b[0m                            Traceback (most recent call last)",
      "Cell \u001b[0;32mIn[2], line 3\u001b[0m\n\u001b[1;32m      1\u001b[0m \u001b[38;5;28;01mfrom\u001b[39;00m \u001b[38;5;21;01mlandcoverpy\u001b[39;00m\u001b[38;5;21;01m.\u001b[39;00m\u001b[38;5;21;01mexecution_mode\u001b[39;00m \u001b[38;5;28;01mimport\u001b[39;00m ExecutionMode\n\u001b[1;32m      2\u001b[0m \u001b[38;5;28;01mfrom\u001b[39;00m \u001b[38;5;21;01mlandcoverpy\u001b[39;00m\u001b[38;5;21;01m.\u001b[39;00m\u001b[38;5;21;01mworkflow\u001b[39;00m \u001b[38;5;28;01mimport\u001b[39;00m workflow\n\u001b[0;32m----> 3\u001b[0m \u001b[43mworkflow\u001b[49m\u001b[43m(\u001b[49m\u001b[43mexecution_mode\u001b[49m\u001b[38;5;241;43m=\u001b[39;49m\u001b[43mExecutionMode\u001b[49m\u001b[38;5;241;43m.\u001b[39;49m\u001b[43mTRAINING\u001b[49m\u001b[43m)\u001b[49m\n",
      "File \u001b[0;32m~/landcoverpy-lidar/landcoverpy/src/landcoverpy/workflow.py:103\u001b[0m, in \u001b[0;36mworkflow\u001b[0;34m(execution_mode, client, tiles_to_predict, use_block_windows, window_slices)\u001b[0m\n\u001b[1;32m    101\u001b[0m \u001b[38;5;28;01mfor\u001b[39;00m tile \u001b[38;5;129;01min\u001b[39;00m tiles:\n\u001b[1;32m    102\u001b[0m     \u001b[38;5;28;01mtry\u001b[39;00m:\n\u001b[0;32m--> 103\u001b[0m         \u001b[43m_process_tile_train\u001b[49m\u001b[43m(\u001b[49m\u001b[43mtile\u001b[49m\u001b[43m,\u001b[49m\u001b[43m \u001b[49m\u001b[43mpolygons_per_tile\u001b[49m\u001b[43m[\u001b[49m\u001b[43mtile\u001b[49m\u001b[43m]\u001b[49m\u001b[43m)\u001b[49m\n\u001b[1;32m    104\u001b[0m     \u001b[38;5;28;01mexcept\u001b[39;00m WorkflowExecutionException \u001b[38;5;28;01mas\u001b[39;00m e:\n\u001b[1;32m    105\u001b[0m         \u001b[38;5;28mprint\u001b[39m(e)\n",
      "File \u001b[0;32m~/landcoverpy-lidar/landcoverpy/src/landcoverpy/workflow_train.py:158\u001b[0m, in \u001b[0;36m_process_tile_train\u001b[0;34m(tile, polygons_in_tile)\u001b[0m\n\u001b[1;32m    156\u001b[0m \u001b[38;5;28mprint\u001b[39m(season)\n\u001b[1;32m    157\u001b[0m bucket_products \u001b[38;5;241m=\u001b[39m settings\u001b[38;5;241m.\u001b[39mMINIO_BUCKET_NAME_PRODUCTS\n\u001b[0;32m--> 158\u001b[0m bucket_composites \u001b[38;5;241m=\u001b[39m \u001b[43msettings\u001b[49m\u001b[38;5;241;43m.\u001b[39;49m\u001b[43mMINIO_BUCKET_NAME_COMPOSITES\u001b[49m\n\u001b[1;32m    159\u001b[0m current_bucket \u001b[38;5;241m=\u001b[39m \u001b[38;5;28;01mNone\u001b[39;00m\n\u001b[1;32m    161\u001b[0m \u001b[38;5;28;01mif\u001b[39;00m \u001b[38;5;28mlen\u001b[39m(products_metadata) \u001b[38;5;241m==\u001b[39m \u001b[38;5;241m0\u001b[39m:\n",
      "File \u001b[0;32m~/.pyenv/versions/3.10.14/envs/landcoverpy-lidar/lib/python3.10/site-packages/pydantic/main.py:811\u001b[0m, in \u001b[0;36mBaseModel.__getattr__\u001b[0;34m(self, item)\u001b[0m\n\u001b[1;32m    808\u001b[0m     \u001b[38;5;28;01mreturn\u001b[39;00m \u001b[38;5;28msuper\u001b[39m()\u001b[38;5;241m.\u001b[39m\u001b[38;5;21m__getattribute__\u001b[39m(item)  \u001b[38;5;66;03m# Raises AttributeError if appropriate\u001b[39;00m\n\u001b[1;32m    809\u001b[0m \u001b[38;5;28;01melse\u001b[39;00m:\n\u001b[1;32m    810\u001b[0m     \u001b[38;5;66;03m# this is the current error\u001b[39;00m\n\u001b[0;32m--> 811\u001b[0m     \u001b[38;5;28;01mraise\u001b[39;00m \u001b[38;5;167;01mAttributeError\u001b[39;00m(\u001b[38;5;124mf\u001b[39m\u001b[38;5;124m'\u001b[39m\u001b[38;5;132;01m{\u001b[39;00m\u001b[38;5;28mtype\u001b[39m(\u001b[38;5;28mself\u001b[39m)\u001b[38;5;241m.\u001b[39m\u001b[38;5;18m__name__\u001b[39m\u001b[38;5;132;01m!r}\u001b[39;00m\u001b[38;5;124m object has no attribute \u001b[39m\u001b[38;5;132;01m{\u001b[39;00mitem\u001b[38;5;132;01m!r}\u001b[39;00m\u001b[38;5;124m'\u001b[39m)\n",
      "\u001b[0;31mAttributeError\u001b[0m: '_Settings' object has no attribute 'MINIO_BUCKET_NAME_COMPOSITES'"
     ]
    }
   ],
   "source": [
    "from landcoverpy.execution_mode import ExecutionMode\n",
    "from landcoverpy.workflow import workflow\n",
    "workflow(execution_mode=ExecutionMode.TRAINING)"
   ]
  },
  {
   "cell_type": "markdown",
   "metadata": {},
   "source": [
    "### Train models using the generated dataset. \n",
    "\n",
    "The data will be automatically loaded from MinIO, which is also automatically saved in MinIO when using `workflow(execution_mode=ExecutionMode.TRAINING)`"
   ]
  },
  {
   "cell_type": "code",
   "execution_count": null,
   "metadata": {},
   "outputs": [],
   "source": [
    "from landcoverpy.model_training import train_model_land_cover\n",
    "train_model_land_cover(n_jobs = 5)"
   ]
  },
  {
   "cell_type": "markdown",
   "metadata": {},
   "source": [
    "Now, use the generated model (also saved and loaded from MinIO) to predict a specific tile using the `ExecutionMode.LAND_COVER_PREDICTION` mode."
   ]
  },
  {
   "cell_type": "code",
   "execution_count": null,
   "metadata": {},
   "outputs": [],
   "source": [
    "from landcoverpy.workflow import workflow\n",
    "from landcoverpy.execution_mode import ExecutionMode\n",
    "slices = (5,5)\n",
    "workflow(execution_mode=ExecutionMode.LAND_COVER_PREDICTION, tiles_to_predict=[\"36SYC\"], window_slices=slices)"
   ]
  },
  {
   "cell_type": "markdown",
   "metadata": {},
   "source": [
    "If you want to make second level predictions, you can train a new model that will learn from SL_PROPERTY labels from specified classes."
   ]
  },
  {
   "cell_type": "code",
   "execution_count": null,
   "metadata": {},
   "outputs": [],
   "source": [
    "from landcoverpy.model_training import train_second_level_models\n",
    "train_second_level_models([\"bareSoil\", \"closedForest\", \"herbaceousVegetation\", \"openForest\", \"shrubland\", \"water\", \"wetland\"], n_jobs=5)"
   ]
  },
  {
   "cell_type": "markdown",
   "metadata": {},
   "source": [
    "Use the mode `ExecutionMode.SECOND_LEVEL_PREDICTION` to predict the second level labels of the tile using the previous land cover predictions. They will be reclassified using new models trained with the SL_PROPERTY labels in a hierarchical way."
   ]
  },
  {
   "cell_type": "code",
   "execution_count": null,
   "metadata": {},
   "outputs": [],
   "source": [
    "workflow(ExecutionMode.SECOND_LEVEL_PREDICTION,tiles_to_predict=[\"36SYC\"], window_slices=slices)"
   ]
  }
 ],
 "metadata": {
  "kernelspec": {
   "display_name": "Python 3.10.6 ('etc-venv': venv)",
   "language": "python",
   "name": "python3"
  },
  "language_info": {
   "codemirror_mode": {
    "name": "ipython",
    "version": 3
   },
   "file_extension": ".py",
   "mimetype": "text/x-python",
   "name": "python",
   "nbconvert_exporter": "python",
   "pygments_lexer": "ipython3",
   "version": "3.10.14"
  },
  "orig_nbformat": 4,
  "vscode": {
   "interpreter": {
    "hash": "c5b609623bc6dcaf630ee003647188ef73b4744b973961272396928b24c3e5b0"
   }
  }
 },
 "nbformat": 4,
 "nbformat_minor": 2
}
